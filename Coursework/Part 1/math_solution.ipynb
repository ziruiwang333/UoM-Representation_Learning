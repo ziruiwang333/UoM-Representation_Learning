{
 "cells": [
  {
   "cell_type": "markdown",
   "metadata": {},
   "source": [
    "# Mathematics Essential"
   ]
  },
  {
   "cell_type": "markdown",
   "metadata": {},
   "source": [
    "## Practicals"
   ]
  },
  {
   "cell_type": "code",
   "execution_count": 1,
   "metadata": {},
   "outputs": [],
   "source": [
    "import numpy as np\n",
    "from matplotlib import pyplot as plt\n",
    "from scipy import special\n",
    "\n",
    "%matplotlib inline"
   ]
  },
  {
   "cell_type": "code",
   "execution_count": 2,
   "metadata": {},
   "outputs": [
    {
     "name": "stdout",
     "output_type": "stream",
     "text": [
      "A:\n",
      " [[0.49630958 0.03734012 0.22124799 0.73745736 0.65277634]\n",
      " [0.91423366 0.92647949 0.97637557 0.26105127 0.81075691]\n",
      " [0.37380352 0.56508987 0.14850912 0.52964405 0.48589674]]\n",
      "B:\n",
      " [[0.25047352 0.43324762 0.76643603]\n",
      " [0.28634171 0.82459722 0.42705556]\n",
      " [0.05513002 0.87887195 0.32442386]\n",
      " [0.14394061 0.51597045 0.67135891]\n",
      " [0.07758935 0.05302831 0.24680479]]\n"
     ]
    }
   ],
   "source": [
    "A = np.random.rand(3, 5)\n",
    "print(f'A:\\n {A}')\n",
    "B = np.random.rand(5, 3)\n",
    "print(f'B:\\n {B}')"
   ]
  },
  {
   "cell_type": "markdown",
   "metadata": {},
   "source": [
    "### <span style=\"color:red\">=========== Assignment 1 ===========</span>"
   ]
  },
  {
   "cell_type": "code",
   "execution_count": 3,
   "metadata": {},
   "outputs": [
    {
     "name": "stdout",
     "output_type": "stream",
     "text": [
      "[[ 0.08028883  0.08370768  0.12865016 -0.05313314  0.04367198]\n",
      " [ 0.08370768  0.19994851  0.15536801 -0.10505525  0.02829953]\n",
      " [ 0.12865016  0.15536801  0.21014524 -0.09449837  0.06672916]\n",
      " [-0.05313314 -0.10505525 -0.09449837  0.05704854 -0.02130637]\n",
      " [ 0.04367198  0.02829953  0.06672916 -0.02130637  0.02639013]]\n"
     ]
    }
   ],
   "source": [
    "cov_a = np.cov(A, rowvar=False)\n",
    "print(cov_a)"
   ]
  },
  {
   "cell_type": "code",
   "execution_count": 4,
   "metadata": {},
   "outputs": [
    {
     "name": "stdout",
     "output_type": "stream",
     "text": [
      "[[0.01053963 0.00781572 0.01289712]\n",
      " [0.00781572 0.11123454 0.0026385 ]\n",
      " [0.01289712 0.0026385  0.04994764]]\n"
     ]
    }
   ],
   "source": [
    "cov_b = np.cov(B, rowvar=False)\n",
    "print(cov_b)"
   ]
  },
  {
   "cell_type": "markdown",
   "metadata": {},
   "source": [
    "### <span style=\"color:red\">=========== End of Assignment 1 ===========</span>"
   ]
  },
  {
   "cell_type": "markdown",
   "metadata": {},
   "source": [
    "### <span style=\"color:red\">=========== Assignment 2 ===========</span> "
   ]
  },
  {
   "cell_type": "code",
   "execution_count": 5,
   "metadata": {
    "scrolled": false
   },
   "outputs": [
    {
     "name": "stdout",
     "output_type": "stream",
     "text": [
      "Eigenvalues: \n",
      " [ 0.49440213  0.          0.07941913 -0.         -0.        ] \n",
      "Eigenvectors: \n",
      " [[-0.37177721 -0.84336894  0.38795689  0.06150585 -0.08302803]\n",
      " [-0.57181033 -0.06736259 -0.69440078  0.39346294  0.01547542]\n",
      " [-0.6304366   0.46858467  0.41449914 -0.31289408 -0.40552731]\n",
      " [ 0.32721582 -0.03956248  0.22756555  0.52034368 -0.41875423]\n",
      " [-0.17405214  0.25110622  0.37907967  0.6875636   0.80812088]]\n"
     ]
    }
   ],
   "source": [
    "eig_vals_a, eig_vec_a = np.linalg.eig(cov_a)\n",
    "val_rounded = np.round(eig_vals_a,decimals=8)\n",
    "vec_rounded = np.round(eig_vec_a,decimals=8)\n",
    "print(f'Eigenvalues: \\n {val_rounded} \\nEigenvectors: \\n {vec_rounded}')"
   ]
  },
  {
   "cell_type": "code",
   "execution_count": 6,
   "metadata": {
    "scrolled": true
   },
   "outputs": [
    {
     "name": "stdout",
     "output_type": "stream",
     "text": [
      "Eigenvalues: \n",
      " [0.00625984 0.0534076  0.11205437] \n",
      "Eigenvectors: \n",
      " [[-0.95814314  0.27363719 -0.08416897]\n",
      " [ 0.06432521 -0.08071526 -0.9946594 ]\n",
      " [ 0.27896953  0.95844026 -0.059735  ]]\n"
     ]
    }
   ],
   "source": [
    "eig_vals_b, eig_vec_b = np.linalg.eig(cov_b)\n",
    "print(f'Eigenvalues: \\n {eig_vals_b} \\nEigenvectors: \\n {eig_vec_b}')"
   ]
  },
  {
   "cell_type": "markdown",
   "metadata": {},
   "source": [
    "### <span style=\"color:red\">=========== End of Assignment 2 ===========</span>"
   ]
  },
  {
   "cell_type": "markdown",
   "metadata": {},
   "source": [
    "### <span style=\"color:red\">=========== Assignment 3 ===========</span>"
   ]
  },
  {
   "cell_type": "code",
   "execution_count": 7,
   "metadata": {},
   "outputs": [
    {
     "data": {
      "text/plain": [
       "array([[0.01053963, 0.00781572, 0.01289712],\n",
       "       [0.00781572, 0.11123454, 0.0026385 ],\n",
       "       [0.01289712, 0.0026385 , 0.04994764]])"
      ]
     },
     "execution_count": 7,
     "metadata": {},
     "output_type": "execute_result"
    }
   ],
   "source": [
    "np.matmul(np.matmul(eig_vec_b, np.diag(eig_vals_b)), np.linalg.inv(eig_vec_b))"
   ]
  },
  {
   "cell_type": "markdown",
   "metadata": {},
   "source": [
    "It is observed that X = cov(B), which verifies the spectral decomposition theorem."
   ]
  },
  {
   "cell_type": "markdown",
   "metadata": {},
   "source": [
    "### <span style=\"color:red\">=========== End of Assignment 3 ===========</span>"
   ]
  },
  {
   "cell_type": "markdown",
   "metadata": {},
   "source": [
    "### <span style=\"color:red\">=========== Assignment 4 ===========</span>"
   ]
  },
  {
   "cell_type": "code",
   "execution_count": 8,
   "metadata": {},
   "outputs": [
    {
     "data": {
      "text/plain": [
       "(array([[-0.42208053,  0.78532444, -0.45289464],\n",
       "        [-0.80443959, -0.55479624, -0.21231597],\n",
       "        [-0.41800116,  0.27471194,  0.86591476]]),\n",
       " array([2.21872654, 0.76843817, 0.35225571]),\n",
       " array([[-0.49631113, -0.44947655, -0.42407057, -0.33472273, -0.5096773 ],\n",
       "        [-0.01920918, -0.42872193, -0.42572171,  0.7545338 ,  0.2554766 ],\n",
       "        [-0.27025926,  0.7826761 , -0.50788649,  0.19647875, -0.13351206]]))"
      ]
     },
     "execution_count": 8,
     "metadata": {},
     "output_type": "execute_result"
    }
   ],
   "source": [
    "np.linalg.svd(A, full_matrices=False, compute_uv=True)"
   ]
  },
  {
   "cell_type": "code",
   "execution_count": 9,
   "metadata": {},
   "outputs": [
    {
     "data": {
      "text/plain": [
       "(array([[-0.48339695, -0.58459944,  0.1016094 ],\n",
       "        [-0.5344521 ,  0.32839882,  0.74137697],\n",
       "        [-0.49356506,  0.59931622, -0.51316526],\n",
       "        [-0.4722458 , -0.32660059, -0.41796031],\n",
       "        [-0.11859924, -0.29077454,  0.04479191]]),\n",
       " array([1.77310243, 0.54888764, 0.15856032]),\n",
       " array([[-0.2134686 , -0.75228185, -0.62330023],\n",
       "        [-0.16200799,  0.65643145, -0.73678434],\n",
       "        [ 0.96342336, -0.05630071, -0.26200318]]))"
      ]
     },
     "execution_count": 9,
     "metadata": {},
     "output_type": "execute_result"
    }
   ],
   "source": [
    "np.linalg.svd(B, full_matrices=False, compute_uv=True)"
   ]
  },
  {
   "cell_type": "markdown",
   "metadata": {},
   "source": [
    "### <span style=\"color:red\">=========== End of Assignment 4 ===========</span>"
   ]
  },
  {
   "cell_type": "markdown",
   "metadata": {},
   "source": [
    "### <span style=\"color:red\">=========== Assignment 5 ===========</span>"
   ]
  },
  {
   "cell_type": "code",
   "execution_count": 10,
   "metadata": {},
   "outputs": [],
   "source": [
    "def plot_hyper(dims=20):    \n",
    "    dimensions = np.arange(2, dims+1)\n",
    "    ratios = []\n",
    "    for dim in dimensions:\n",
    "        ratio = np.sqrt(np.pi**dim) / (dim * 2**(dim-1) * special.gamma(dim / 2)); \n",
    "        ratios.append(ratio)\n",
    "        \n",
    "    plt.plot(dimensions, ratios, marker='o')\n",
    "    plt.xticks(np.arange(2, dims+1, 5.0))\n",
    "    plt.show()"
   ]
  },
  {
   "cell_type": "code",
   "execution_count": 11,
   "metadata": {},
   "outputs": [
    {
     "data": {
      "image/png": "[encoded data removed]",
      "text/plain": [
       "<Figure size 432x288 with 1 Axes>"
      ]
     },
     "metadata": {
      "needs_background": "light"
     },
     "output_type": "display_data"
    }
   ],
   "source": [
    "plot_hyper()"
   ]
  },
  {
   "cell_type": "markdown",
   "metadata": {},
   "source": [
    "### <span style=\"color:red\">=========== End of Assignment 5 ===========</span>"
   ]
  }
 ],
 "metadata": {
  "kernelspec": {
   "display_name": "Python 3",
   "language": "python",
   "name": "python3"
  },
  "language_info": {
   "codemirror_mode": {
    "name": "ipython",
    "version": 3
   },
   "file_extension": ".py",
   "mimetype": "text/x-python",
   "name": "python",
   "nbconvert_exporter": "python",
   "pygments_lexer": "ipython3",
   "version": "3.6.13"
  },
  "toc": {
   "base_numbering": 1,
   "nav_menu": {},
   "number_sections": true,
   "sideBar": true,
   "skip_h1_title": false,
   "title_cell": "Table of Contents",
   "title_sidebar": "Contents",
   "toc_cell": false,
   "toc_position": {},
   "toc_section_display": true,
   "toc_window_display": false
  }
 },
 "nbformat": 4,
 "nbformat_minor": 2
}
