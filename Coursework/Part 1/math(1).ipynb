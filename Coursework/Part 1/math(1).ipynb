{
 "cells": [
  {
   "cell_type": "markdown",
   "metadata": {},
   "source": [
    "# Mathematics Essential"
   ]
  },
  {
   "cell_type": "markdown",
   "metadata": {},
   "source": [
    "## Practicals"
   ]
  },
  {
   "cell_type": "code",
   "execution_count": 1,
   "metadata": {},
   "outputs": [],
   "source": [
    "import numpy as np\n",
    "from matplotlib import pyplot as plt\n",
    "from scipy import special\n",
    "\n",
    "%matplotlib inline"
   ]
  },
  {
   "cell_type": "code",
   "execution_count": 2,
   "metadata": {},
   "outputs": [
    {
     "name": "stdout",
     "output_type": "stream",
     "text": [
      "A:\n",
      " [[0.05578197 0.91384586 0.66399521 0.68345183 0.69664059]\n",
      " [0.51776906 0.95301794 0.98410857 0.30068828 0.2521158 ]\n",
      " [0.73453961 0.4453983  0.23630531 0.8921486  0.74630906]]\n",
      "B:\n",
      " [[0.55754749 0.30193137 0.81730523]\n",
      " [0.36632978 0.56126091 0.2102461 ]\n",
      " [0.47650338 0.61587846 0.57501087]\n",
      " [0.63842112 0.89232839 0.50147229]\n",
      " [0.96756399 0.88411477 0.99304064]]\n"
     ]
    }
   ],
   "source": [
    "A = np.random.rand(3, 5)\n",
    "print(f'A:\\n {A}')\n",
    "B = np.random.rand(5, 3)\n",
    "print(f'B:\\n {B}')"
   ]
  },
  {
   "cell_type": "markdown",
   "metadata": {},
   "source": [
    "### <span style=\"color:red\">=========== Assignment 1 ===========</span>"
   ]
  },
  {
   "cell_type": "code",
   "execution_count": 18,
   "metadata": {},
   "outputs": [
    {
     "name": "stdout",
     "output_type": "stream",
     "text": [
      "cov(A): \n",
      " [[ 0.10375847  0.03037673 -0.02666125]\n",
      " [ 0.03037673  0.12238051 -0.08594127]\n",
      " [-0.02666125 -0.08594127  0.07010878]]\n",
      "cov(B): \n",
      " [[ 0.06640398 -0.04521256 -0.00518342 -0.05031889  0.01401438]\n",
      " [-0.04521256  0.03092861  0.00435638  0.0346777  -0.00974632]\n",
      " [-0.00518342  0.00435638  0.00513322  0.00631187 -0.00226211]\n",
      " [-0.05031889  0.0346777   0.00631187  0.03933206 -0.01120862]\n",
      " [ 0.01401438 -0.00974632 -0.00226211 -0.01120862  0.00324628]]\n"
     ]
    }
   ],
   "source": [
    "covA = np.cov(A)\n",
    "covB = np.cov(B)\n",
    "print(\"cov(A): \\n\", covA)\n",
    "print(\"cov(B): \\n\", covB)"
   ]
  },
  {
   "cell_type": "markdown",
   "metadata": {},
   "source": [
    "### <span style=\"color:red\">=========== End of Assignment 1 ===========</span>"
   ]
  },
  {
   "cell_type": "markdown",
   "metadata": {},
   "source": [
    "### <span style=\"color:red\">=========== Assignment 2 ===========</span> "
   ]
  },
  {
   "cell_type": "code",
   "execution_count": 22,
   "metadata": {},
   "outputs": [
    {
     "data": {
      "text/plain": [
       "(array([0.20251112, 0.08744515, 0.00629149]),\n",
       " array([[ 0.37785433,  0.92509881,  0.03766039],\n",
       "        [ 0.74001306, -0.32620167,  0.58819481],\n",
       "        [-0.5564232 ,  0.19438278,  0.80784191]]))"
      ]
     },
     "execution_count": 22,
     "metadata": {},
     "output_type": "execute_result"
    }
   ],
   "source": [
    "eigA = np.linalg.eig(covA)\n",
    "eigA"
   ]
  },
  {
   "cell_type": "code",
   "execution_count": 23,
   "metadata": {
    "scrolled": false
   },
   "outputs": [
    {
     "data": {
      "text/plain": [
       "(array([ 1.39619544e-01, -1.76160474e-17,  5.42460905e-03,  5.52561407e-19,\n",
       "        -6.85594098e-18]),\n",
       " array([[-6.87224780e-01,  6.64865404e-01,  2.92704794e-01,\n",
       "          3.86781742e-02, -3.10180525e-01],\n",
       "        [ 4.70604648e-01,  5.02522899e-01, -3.65518937e-02,\n",
       "         -6.21006816e-04,  4.04149225e-01],\n",
       "        [ 6.90400810e-02, -3.28172923e-01,  9.07524860e-01,\n",
       "          7.92349997e-02,  3.62364986e-01],\n",
       "        [ 5.28519991e-01,  4.37436137e-01,  2.47265783e-01,\n",
       "          3.07330041e-01, -7.45065799e-01],\n",
       "        [-1.48840363e-01, -7.98554274e-02, -1.68065832e-01,\n",
       "          9.47509195e-01,  2.32422069e-01]]))"
      ]
     },
     "execution_count": 23,
     "metadata": {},
     "output_type": "execute_result"
    }
   ],
   "source": [
    "eigB = np.linalg.eig(covB)\n",
    "eigB"
   ]
  },
  {
   "cell_type": "markdown",
   "metadata": {},
   "source": [
    "### <span style=\"color:red\">=========== End of Assignment 2 ===========</span>"
   ]
  },
  {
   "cell_type": "markdown",
   "metadata": {},
   "source": [
    "### <span style=\"color:red\">=========== Assignment 3 ===========</span>"
   ]
  },
  {
   "cell_type": "code",
   "execution_count": 26,
   "metadata": {},
   "outputs": [
    {
     "data": {
      "text/plain": [
       "array([[ 1.39619544e-01,  0.00000000e+00,  0.00000000e+00,\n",
       "         0.00000000e+00,  0.00000000e+00],\n",
       "       [ 0.00000000e+00, -1.76160474e-17,  0.00000000e+00,\n",
       "         0.00000000e+00,  0.00000000e+00],\n",
       "       [ 0.00000000e+00,  0.00000000e+00,  5.42460905e-03,\n",
       "         0.00000000e+00,  0.00000000e+00],\n",
       "       [ 0.00000000e+00,  0.00000000e+00,  0.00000000e+00,\n",
       "         5.52561407e-19,  0.00000000e+00],\n",
       "       [ 0.00000000e+00,  0.00000000e+00,  0.00000000e+00,\n",
       "         0.00000000e+00, -6.85594098e-18]])"
      ]
     },
     "execution_count": 26,
     "metadata": {},
     "output_type": "execute_result"
    }
   ],
   "source": [
    "np.diag(eigB[0])"
   ]
  },
  {
   "cell_type": "code",
   "execution_count": 29,
   "metadata": {},
   "outputs": [
    {
     "name": "stdout",
     "output_type": "stream",
     "text": [
      "[[ 6.59392248e-02  0.00000000e+00  0.00000000e+00  0.00000000e+00\n",
      "   0.00000000e+00]\n",
      " [ 0.00000000e+00 -4.44856747e-18  0.00000000e+00 -0.00000000e+00\n",
      "  -0.00000000e+00]\n",
      " [ 0.00000000e+00  0.00000000e+00  4.46771545e-03  0.00000000e+00\n",
      "  -0.00000000e+00]\n",
      " [ 0.00000000e+00 -0.00000000e+00  0.00000000e+00  5.21903940e-20\n",
      "  -0.00000000e+00]\n",
      " [ 0.00000000e+00 -0.00000000e+00 -0.00000000e+00 -0.00000000e+00\n",
      "  -3.70358057e-19]]\n"
     ]
    }
   ],
   "source": [
    "X = eigB[1]*np.diag(eigB[0])*eigB[1].T\n",
    "print(X)"
   ]
  },
  {
   "cell_type": "markdown",
   "metadata": {},
   "source": [
    "### <span style=\"color:red\">=========== End of Assignment 3 ===========</span>"
   ]
  },
  {
   "cell_type": "markdown",
   "metadata": {},
   "source": [
    "### <span style=\"color:red\">=========== Assignment 4 ===========</span>"
   ]
  },
  {
   "cell_type": "code",
   "execution_count": 30,
   "metadata": {},
   "outputs": [
    {
     "data": {
      "text/plain": [
       "(array([[-0.6020497 ,  0.09778627, -0.79244811],\n",
       "        [-0.58504041,  0.62139117,  0.52115327],\n",
       "        [-0.5433819 , -0.77737433,  0.31689945]]),\n",
       " array([2.38260039, 0.85700252, 0.51549998]),\n",
       " array([[-0.30875294, -0.56650541, -0.46331958, -0.44999748, -0.40814273],\n",
       "        [-0.28450372,  0.39126759,  0.57496717, -0.51324957, -0.4146745 ],\n",
       "        [ 0.88924915, -0.16752772,  0.11944652, -0.19820376, -0.35723691],\n",
       "        [-0.18148261, -0.45436873,  0.45783592,  0.60946321, -0.4237381 ],\n",
       "        [-0.00541003, -0.53987482,  0.48048571, -0.35120794,  0.59522465]]))"
      ]
     },
     "execution_count": 30,
     "metadata": {},
     "output_type": "execute_result"
    }
   ],
   "source": [
    "np.linalg.svd(A)"
   ]
  },
  {
   "cell_type": "code",
   "execution_count": 33,
   "metadata": {},
   "outputs": [
    {
     "data": {
      "text/plain": [
       "(array([[-0.3825819 ,  0.70136172,  0.12004272, -0.02413387, -0.58883795],\n",
       "        [-0.26089352, -0.46169791, -0.16575323, -0.73746362, -0.38398293],\n",
       "        [-0.38209105, -0.05500997,  0.82507918, -0.20288814,  0.35925072],\n",
       "        [-0.46572146, -0.51223138,  0.04928542,  0.6429827 , -0.32383134],\n",
       "        [-0.65013508,  0.171813  , -0.52433854, -0.0312188 ,  0.52143951]]),\n",
       " array([2.52432027, 0.52811277, 0.09274863]),\n",
       " array([[-0.5614668 , -0.58932101, -0.58090945],\n",
       "        [ 0.06611671, -0.73171025,  0.67840157],\n",
       "        [-0.82485369,  0.34249214,  0.44979497]]))"
      ]
     },
     "execution_count": 33,
     "metadata": {},
     "output_type": "execute_result"
    }
   ],
   "source": [
    "np.linalg.svd(B)"
   ]
  },
  {
   "cell_type": "markdown",
   "metadata": {},
   "source": [
    "### <span style=\"color:red\">=========== End of Assignment 4 ===========</span>"
   ]
  },
  {
   "cell_type": "markdown",
   "metadata": {},
   "source": [
    "### <span style=\"color:red\">=========== Assignment 5 ===========</span>"
   ]
  },
  {
   "cell_type": "code",
   "execution_count": 41,
   "metadata": {},
   "outputs": [
    {
     "data": {
      "text/plain": [
       "24.0"
      ]
     },
     "execution_count": 41,
     "metadata": {},
     "output_type": "execute_result"
    }
   ],
   "source": [
    "from scipy import special"
   ]
  },
  {
   "cell_type": "code",
   "execution_count": 50,
   "metadata": {},
   "outputs": [
    {
     "name": "stdout",
     "output_type": "stream",
     "text": [
      "ratio( 4 ) =  0.025702094794503538\n",
      "ratio( 5 ) =  0.0036444621515885132\n",
      "ratio( 6 ) =  0.00044858617882378207\n",
      "ratio( 7 ) =  4.8679487762400185e-05\n",
      "ratio( 8 ) =  4.718554834468898e-06\n",
      "ratio( 9 ) =  4.130084289907772e-07\n",
      "ratio( 10 ) =  3.294172711895132e-08\n",
      "ratio( 11 ) =  2.4127145077464433e-09\n",
      "ratio( 12 ) =  1.633356816815927e-10\n",
      "ratio( 13 ) =  1.0278282532076325e-11\n",
      "ratio( 14 ) =  6.041611196702974e-13\n",
      "ratio( 15 ) =  3.3315261875062436e-14\n",
      "ratio( 16 ) =  1.729973560675199e-15\n",
      "ratio( 17 ) =  8.488022974625561e-17\n",
      "ratio( 18 ) =  3.946893412579362e-18\n",
      "ratio( 19 ) =  1.744076948868674e-19\n",
      "ratio( 20 ) =  7.341827772707332e-21\n"
     ]
    }
   ],
   "source": [
    "r=1\n",
    "dimension = [i for i in range(4,21)]\n",
    "ratio = []\n",
    "for d in dimension:\n",
    "    temp = (np.pi**(d/2)) / (d*(2**(d-1))*special.gamma(d)*(d/2))\n",
    "    print(\"ratio(\", d, \") = \", temp)\n",
    "    ratio.append(temp)"
   ]
  },
  {
   "cell_type": "code",
   "execution_count": 54,
   "metadata": {},
   "outputs": [
    {
     "data": {
      "text/plain": [
       "[<matplotlib.lines.Line2D at 0x1c91854a488>]"
      ]
     },
     "execution_count": 54,
     "metadata": {},
     "output_type": "execute_result"
    },
    {
     "data": {
      "image/png": "[encoded data removed]",
      "text/plain": [
       "<Figure size 432x288 with 1 Axes>"
      ]
     },
     "metadata": {
      "needs_background": "light"
     },
     "output_type": "display_data"
    }
   ],
   "source": [
    "plt.plot(dimension, ratio)"
   ]
  },
  {
   "cell_type": "markdown",
   "metadata": {},
   "source": [
    "### <span style=\"color:red\">=========== End of Assignment 5 ===========</span>"
   ]
  }
 ],
 "metadata": {
  "kernelspec": {
   "display_name": "Python 3",
   "language": "python",
   "name": "python3"
  },
  "language_info": {
   "codemirror_mode": {
    "name": "ipython",
    "version": 3
   },
   "file_extension": ".py",
   "mimetype": "text/x-python",
   "name": "python",
   "nbconvert_exporter": "python",
   "pygments_lexer": "ipython3",
   "version": "3.7.11"
  },
  "toc": {
   "base_numbering": 1,
   "nav_menu": {},
   "number_sections": true,
   "sideBar": true,
   "skip_h1_title": false,
   "title_cell": "Table of Contents",
   "title_sidebar": "Contents",
   "toc_cell": false,
   "toc_position": {},
   "toc_section_display": true,
   "toc_window_display": false
  }
 },
 "nbformat": 4,
 "nbformat_minor": 2
}
