{
 "cells": [
  {
   "cell_type": "markdown",
   "metadata": {},
   "source": [
    "# Manifold Learning\n",
    "\n",
    "<h3><span style=\"color:blue\">\n",
    "NOTE:\n",
    "In this code, all inputs and outputs are <i>column vectors</i>.<br/>\n",
    "</span></h3>"
   ]
  },
  {
   "cell_type": "code",
   "execution_count": null,
   "metadata": {},
   "outputs": [],
   "source": [
    "%matplotlib notebook\n",
    "import numpy as np\n",
    "import matplotlib.pyplot as plt\n",
    "from mpl_toolkits.mplot3d import Axes3D"
   ]
  },
  {
   "cell_type": "markdown",
   "metadata": {},
   "source": [
    "## Part 1.  Multidimensional Scaling"
   ]
  },
  {
   "cell_type": "code",
   "execution_count": null,
   "metadata": {},
   "outputs": [],
   "source": [
    "from sklearn.metrics.pairwise import euclidean_distances\n",
    "\n",
    "# Helper functions & Datasets\n",
    "from Code.optimization import gradient_descent\n",
    "from Code.dataset import ten_city, synthetic_spiral"
   ]
  },
  {
   "cell_type": "markdown",
   "metadata": {},
   "source": [
    "## * Classical MDS"
   ]
  },
  {
   "cell_type": "markdown",
   "metadata": {},
   "source": [
    "### <span style=\"color:red\">============= Assignment 1 =============</span>"
   ]
  },
  {
   "cell_type": "code",
   "execution_count": null,
   "metadata": {},
   "outputs": [],
   "source": [
    "def cmds(X, n_dim, input_type='raw'):\n",
    "    \"\"\"\n",
    "    Classical(linear) multidimensional scaling (MDS)\n",
    "    \n",
    "    Parameters\n",
    "    ----------\n",
    "    X: (d, n) array or (n,n) array\n",
    "        input data. The data are placed in column-major order. \n",
    "        That is, samples are placed in the matrix (X) as column vectors\n",
    "        d: dimension of points\n",
    "        n: number of points\n",
    "        \n",
    "    n_dim: dimension of target space\n",
    "    \n",
    "    input_type: it indicates whether data are raw or distance\n",
    "        - raw: raw data. (n,d) array. \n",
    "        - distance: precomputed distances between the data. (n,n) array.\n",
    "    Returns\n",
    "    -------\n",
    "    Y: (n_dim, n) array. projected embeddings.\n",
    "    evals: (n_dim) eigen values\n",
    "    evecs: corresponding eigen vectors in column vectors\n",
    "    \"\"\"\n",
    "\n",
    "    if input_type == 'distance':\n",
    "        D = X\n",
    "    elif input_type == 'raw':\n",
    "        Xt = X.T\n",
    "        D = euclidean_distances(Xt,Xt)\n",
    "        \n",
    "    ???\n",
    "\n",
    "    return Y, evals, evecs\n",
    "\n",
    "# \n",
    "test_data = np.array([[0,3,2], [1,3,5], [-6,-3,5], [1,1,1]]).T\n",
    "\n",
    "n_dim = 3\n",
    "Y_test, evals, evecs = cmds(X=test_data, n_dim=n_dim, input_type='raw')\n",
    "print('%d-largest eigen values:'% n_dim)\n",
    "print(evals)\n",
    "print('Corresponding eigen vectors:\\n', evecs.T)\n",
    "print('Embedded coordinates:')\n",
    "print(Y_test)"
   ]
  },
  {
   "cell_type": "code",
   "execution_count": null,
   "metadata": {},
   "outputs": [],
   "source": [
    "# ten city dataset\n",
    "flying_dist, city = ten_city()\n",
    "flying_dist = flying_dist + flying_dist.T"
   ]
  },
  {
   "cell_type": "code",
   "execution_count": null,
   "metadata": {},
   "outputs": [],
   "source": [
    "???"
   ]
  },
  {
   "cell_type": "markdown",
   "metadata": {},
   "source": [
    "### <span style=\"color:red\">=========== End of Assignment 1 ===========</span>"
   ]
  },
  {
   "cell_type": "markdown",
   "metadata": {},
   "source": [
    "## * Stress-based MDS"
   ]
  },
  {
   "cell_type": "markdown",
   "metadata": {},
   "source": [
    "### <span style=\"color:red\">============= Assignment 2 =============</span>"
   ]
  },
  {
   "cell_type": "code",
   "execution_count": null,
   "metadata": {},
   "outputs": [],
   "source": [
    "def loss_sammon(D, y):\n",
    "    \"\"\"\n",
    "    Loss function (stress) - Sammon\n",
    "    \n",
    "    Parameters\n",
    "    ----------\n",
    "    D: (n,n) array. distance matrix in original space\n",
    "        This is a symetric matrix\n",
    "    y: (d,n) array\n",
    "        d is the dimensionality of target space.\n",
    "        n is the number of points.\n",
    "        \n",
    "    Returns\n",
    "    -------\n",
    "    stress: scalar. stress\n",
    "    \"\"\"\n",
    "    ???\n",
    "    \n",
    "    return stress\n",
    "\n",
    "def grad_sammon(D, y):\n",
    "    \"\"\"\n",
    "    Gradient function (first derivative) - Sammonn_dim\n",
    "    \n",
    "    Parameters\n",
    "    ----------\n",
    "    D: (n,n) array. distance matrix in original space\n",
    "        This is a symetric matrix\n",
    "    y: (d,n) array\n",
    "        d is the dimensionality of target space.\n",
    "        n is the number of points.\n",
    "        \n",
    "    Returns\n",
    "    -------\n",
    "    g: (k,n) array.\n",
    "        Gradient matrix. \n",
    "        k is the dimensionality of target space.\n",
    "        n is the number of points.\n",
    "    \"\"\"\n",
    "    ???\n",
    "    \n",
    "    return \n",
    "\n",
    "# The following code to be used for testing student's implementation during marking. Don't change!\n",
    "test_data = np.array([[0,3,2], [1,3,5], [-6,-3,5], [1,1,1]]).T\n",
    "D = euclidean_distances(test_data.T, test_data.T)\n",
    "y = np.array([[1,0],[1,1],[0,1],[0,0]]).T\n",
    "loss = loss_sammon(D, y)\n",
    "gradient = grad_sammon(D, y)\n",
    "print(loss)\n",
    "print(gradient)"
   ]
  },
  {
   "cell_type": "markdown",
   "metadata": {},
   "source": [
    "### <span style=\"color:red\">=========== End of Assignment 2 ===========</span>\n",
    "\n",
    "The following function provided for students is used to do Assignment 3."
   ]
  },
  {
   "cell_type": "code",
   "execution_count": null,
   "metadata": {},
   "outputs": [],
   "source": [
    "def stress_based_mds(x, n_dim, loss_f, grad_f, input_type='raw', \n",
    "                     lr=0.5, tol=1e-9, max_iter=6000):\n",
    "    \"\"\"\n",
    "    Stress-based MDS\n",
    "    \n",
    "    Parameters\n",
    "    ----------\n",
    "    x: (d,n) array or (n,n) array\n",
    "        If it is raw data -> (d,n) array\n",
    "        otherwise, (n,n) array (distance matrix)\n",
    "        n is the number of points\n",
    "        d is the dimensionality of original space\n",
    "    n_dim: dimensionality of target space\n",
    "    loss_f: loss function\n",
    "    grad_f: gradient function\n",
    "    input_type: 'raw' or 'distance'\n",
    "    init: initialisation method\n",
    "        random: Initial y is set randomly\n",
    "        fixed: Initial y is set by pre-defined values\n",
    "    max_iter: maximum iteration of optimization\n",
    "    \n",
    "    Returns\n",
    "    -------\n",
    "    y: (n_dim,n) array. Embedded coordinates in target space\n",
    "    losses: (max_iter,) History of stress\n",
    "    \"\"\"\n",
    "\n",
    "    # obtain distance\n",
    "    if input_type == 'raw':\n",
    "        x_t = x.T\n",
    "        D = euclidean_distances(x_t, x_t)\n",
    "    elif input_type == 'distance':\n",
    "        D = x\n",
    "    else:\n",
    "        raise ValueError('inappropriate input_type')\n",
    "    \n",
    "    # Remaining initialisation\n",
    "    N = x.shape[1]\n",
    "\n",
    "    np.random.seed(10)\n",
    "    # Initialise y randomly\n",
    "    y = np.random.normal(0.0,1.0,[n_dim,N])\n",
    "\n",
    "    # calculate optimal solution (embedded coordinates)\n",
    "    y, losses = gradient_descent(D, y, loss_f, grad_f, lr, tol, max_iter)\n",
    "    \n",
    "    return y, losses"
   ]
  },
  {
   "cell_type": "markdown",
   "metadata": {},
   "source": [
    "### <span style=\"color:red\">=========== Assignment 3 ===========</span>"
   ]
  },
  {
   "cell_type": "code",
   "execution_count": null,
   "metadata": {},
   "outputs": [],
   "source": [
    "X_spiral = synthetic_spiral()\n",
    "\n",
    "fig_spiral = plt.figure()\n",
    "fig_spiral.suptitle('Spiral Data')\n",
    "\n",
    "# Add 3d scatter plot\n",
    "ax = fig_spiral.add_subplot(projection='3d')\n",
    "ax.scatter(X_spiral[0,:], X_spiral[1,:], X_spiral[2,:], c='k')\n",
    "ax.plot(X_spiral[0,:], X_spiral[1,:], X_spiral[2,:], c='k');"
   ]
  },
  {
   "cell_type": "code",
   "execution_count": null,
   "metadata": {},
   "outputs": [],
   "source": []
  },
  {
   "cell_type": "markdown",
   "metadata": {},
   "source": [
    "### <span style=\"color:red\">=========== End of Assignment 3 ===========</span>"
   ]
  },
  {
   "cell_type": "markdown",
   "metadata": {},
   "source": [
    "## Part 2. Isometric Feature Mapping (ISOMAP)"
   ]
  },
  {
   "cell_type": "code",
   "execution_count": null,
   "metadata": {},
   "outputs": [],
   "source": [
    "from sklearn.metrics.pairwise import euclidean_distances\n",
    "from Code.helpers import VIS_Shortest_path_2d, ImageViewer"
   ]
  },
  {
   "cell_type": "markdown",
   "metadata": {},
   "source": [
    "### <span style=\"color:red\">============= Assignment 4 =============</span>"
   ]
  },
  {
   "cell_type": "code",
   "execution_count": null,
   "metadata": {},
   "outputs": [],
   "source": [
    "def fixed_radius_distance(X, epsilon):\n",
    "    \"\"\"\n",
    "    Calculate epsilon-NN\n",
    "    \n",
    "    Parameters\n",
    "    ----------\n",
    "    X: (d,n) array, where n is the number of points and d is its dimension\n",
    "    epsilon: criterion of selecting neighbors\n",
    "        Select points as its neighbours if distance < epsilon\n",
    "        \n",
    "    Returns\n",
    "    -------\n",
    "    nbrs_dist: (n,k*) array\n",
    "        It is filled with distances with neighbors. \n",
    "        In each row, k* varies according to the number of neighbours\n",
    "        Each row corresponds to a specific point (row-major order)\n",
    "    nbrs_idx: (n,k*) array\n",
    "        It is filled with the indices of neighbors. \n",
    "        In each row, k* varies according to the number of neighbours\n",
    "        Each row corresponds to a specific point (row-major order)\n",
    "    \"\"\"\n",
    "    ???\n",
    "\n",
    "    return nbrs_dist, nbrs_idx\n",
    "\n",
    "def nearest_neighbor_distance(X, n_neighbors):\n",
    "    \"\"\"\n",
    "    Calculate K-NN\n",
    "    \n",
    "    Parameters\n",
    "    ----------\n",
    "    X: (d,n) array, where n is the number of points and d is its dimension\n",
    "    n_neighbors: number of neighbors\n",
    "        Select n_neighbors(k) nearest neighbors\n",
    "\n",
    "    Returns\n",
    "    -------\n",
    "    dist: (n,k) array\n",
    "        It is filled with distances with neighbors. \n",
    "        In each row, k varies according to the number of neighbours\n",
    "        Each row corresponds to a specific point (row-major order)\n",
    "    nbrs: (n,k) array\n",
    "        It is filled with the indices of neighbors. \n",
    "        In each row, k varies according to the number of neighbours\n",
    "        Each row corresponds to a specific point (row-major order)\n",
    "    \"\"\"\n",
    "    ???\n",
    "\n",
    "    return nbrs_dist, nbrs_idx\n",
    "\n",
    "# The following code to be used for testing student's implementation during marking. Don't change!\n",
    "test_data = np.array([[0,3,2], [1,3,5], [-6,-3,5], [1,1,1]]).T\n",
    "dist, idx = fixed_radius_distance(test_data, 9.1)\n",
    "print(dist)\n",
    "print(idx)\n",
    "\n",
    "dist, idx = nearest_neighbor_distance(test_data, 2)\n",
    "print(dist)\n",
    "print(idx)"
   ]
  },
  {
   "cell_type": "code",
   "execution_count": null,
   "metadata": {},
   "outputs": [],
   "source": [
    "def isomap(x, n_components, n_neighbors=None, epsilon=None, dist_func=None, cmds_func=None):\n",
    "    \"\"\"\n",
    "    ISOMAP\n",
    "    \n",
    "    Parameters\n",
    "    ----------\n",
    "    x: (d,n) array, where n is the number of points and n is its dimensionality.\n",
    "    n_components: dimentionality of target space\n",
    "    n_neighbors: the number of neighourhood\n",
    "    epsilon: fixed radius\n",
    "    dist_func: function for calculating distance matrix\n",
    "    \n",
    "    Returns\n",
    "    -------\n",
    "    Y: (d,n) array. Embedded coordinates from cmds in Step 3.\n",
    "    dist_mat: (n,n)array. Distance matrix made in Step 1.\n",
    "    predecessors: predecessors from \"shortest_path\" function in Step 2.\n",
    "    \"\"\"\n",
    "    assert(cmds_func is not None)\n",
    "    assert((epsilon is not None) or (n_neighbors is not None))\n",
    "\n",
    "    n_points = x.shape[1]\n",
    "\n",
    "    # Step 1.\n",
    "    # find nearest neighbors to each sample with the given condition\n",
    "    ???\n",
    "    \n",
    "    # Step 2.\n",
    "    # Find shortest paths\n",
    "    from scipy.sparse import csr_matrix\n",
    "    from scipy.sparse.csgraph import shortest_path\n",
    "    ???\n",
    "\n",
    "    # Step 3.\n",
    "    # Apply cMDS\n",
    "    ???\n",
    "\n",
    "    return Y, dist_mat, predecessors\n",
    "\n",
    "# The following code to be used for testing student's implementation during marking. Don't change!\n",
    "test_data = np.array([[0,3,2], [1,3,5], [-6,-3,5], [1,1,1]]).T\n",
    "n_components = 2\n",
    "n_neighbors = 2\n",
    "Y_nn, dist_nn, predecessors_nn = isomap(test_data, \n",
    "                                            n_components, \n",
    "                                            n_neighbors=n_neighbors, \n",
    "                                            dist_func=nearest_neighbor_distance, \n",
    "                                            cmds_func=cmds)\n",
    "print(Y_nn)\n",
    "print(dist_nn)\n",
    "print(predecessors_nn)"
   ]
  },
  {
   "cell_type": "markdown",
   "metadata": {},
   "source": [
    "### Example with Swiss Roll"
   ]
  },
  {
   "cell_type": "code",
   "execution_count": null,
   "metadata": {},
   "outputs": [],
   "source": [
    "from sklearn.datasets import make_swiss_roll\n",
    "\n",
    "n_points = 1000\n",
    "data_s_roll, color = make_swiss_roll(n_points)\n",
    "data_s_roll = data_s_roll.T"
   ]
  },
  {
   "cell_type": "code",
   "execution_count": null,
   "metadata": {},
   "outputs": [],
   "source": [
    "fig_swiss_roll = plt.figure()\n",
    "fig_swiss_roll.suptitle(\"Swiss roll dataset\")\n",
    "\n",
    "# Add 3d scatter plot\n",
    "ax = fig_swiss_roll.add_subplot(projection='3d')\n",
    "ax.scatter(data_s_roll[0,:], data_s_roll[1,:], data_s_roll[2,:], c=color, \n",
    "           cmap=plt.cm.Spectral)\n",
    "ax.view_init(4, -72);"
   ]
  },
  {
   "cell_type": "code",
   "execution_count": null,
   "metadata": {},
   "outputs": [],
   "source": []
  },
  {
   "cell_type": "markdown",
   "metadata": {},
   "source": [
    "### <span style=\"color:red\">=========== End of Assignment 4 ===========</span>\n",
    "    \n",
    "    \n",
    "The following code is provided to do Assignment 5.\n",
    "    "
   ]
  },
  {
   "cell_type": "markdown",
   "metadata": {},
   "source": [
    "### Example with face data"
   ]
  },
  {
   "cell_type": "code",
   "execution_count": null,
   "metadata": {},
   "outputs": [],
   "source": [
    "from Code.dataset import face_tenenbaum\n",
    "\n",
    "data_face = face_tenenbaum()\n",
    "print(data_face.shape)\n",
    "image_size = [64,64]"
   ]
  },
  {
   "cell_type": "code",
   "execution_count": null,
   "metadata": {},
   "outputs": [],
   "source": [
    "n_components = 2\n",
    "n_neighbors = 6\n",
    "Y_face, dist_face, predecessors_face = isomap(data_face, n_components, \n",
    "                                              n_neighbors=n_neighbors, \n",
    "                                              dist_func=nearest_neighbor_distance, \n",
    "                                              cmds_func=cmds)"
   ]
  },
  {
   "cell_type": "markdown",
   "metadata": {},
   "source": [
    "### <span style=\"color:red\">============= Assignment 5 =============</span>"
   ]
  },
  {
   "cell_type": "markdown",
   "metadata": {},
   "source": [
    "#### Shortest path of specific two points"
   ]
  },
  {
   "cell_type": "code",
   "execution_count": null,
   "metadata": {},
   "outputs": [],
   "source": [
    "def get_shortest_path(predecessors, start_idx, end_idx):\n",
    "    path = [end_idx]\n",
    "    k = end_idx\n",
    "    while predecessors[start_idx, k] != -9999:\n",
    "        path.append(predecessors[start_idx, k])\n",
    "        k = predecessors[start_idx, k]\n",
    "    return path[::-1]"
   ]
  },
  {
   "cell_type": "markdown",
   "metadata": {},
   "source": [
    "#### Path 1"
   ]
  },
  {
   "cell_type": "code",
   "execution_count": null,
   "metadata": {},
   "outputs": [],
   "source": [
    "fig_face_index_h = plt.figure()\n",
    "vis_face_index_h = VIS_Shortest_path_2d(Y_face, dist_face, predecessors_face, \n",
    "                                        fig_face_index_h)"
   ]
  },
  {
   "cell_type": "code",
   "execution_count": null,
   "metadata": {},
   "outputs": [],
   "source": []
  },
  {
   "cell_type": "markdown",
   "metadata": {},
   "source": [
    "#### Path 2"
   ]
  },
  {
   "cell_type": "code",
   "execution_count": null,
   "metadata": {},
   "outputs": [],
   "source": [
    "fig_face_index_v = plt.figure()\n",
    "vis_face_index_v = VIS_Shortest_path_2d(Y_face, dist_face, predecessors_face, \n",
    "                                        fig_face_index_v)"
   ]
  },
  {
   "cell_type": "code",
   "execution_count": null,
   "metadata": {},
   "outputs": [],
   "source": []
  },
  {
   "cell_type": "markdown",
   "metadata": {},
   "source": [
    "### <span style=\"color:red\">=========== End of Assignment 5 ===========</span>\n",
    "\n"
   ]
  },
  {
   "cell_type": "markdown",
   "metadata": {},
   "source": [
    "## Part 3. Locally Linear Embedding (LLE) "
   ]
  },
  {
   "cell_type": "code",
   "execution_count": null,
   "metadata": {},
   "outputs": [],
   "source": [
    "from scipy.stats import pearsonr, spearmanr\n",
    "from Code.helpers import VIS_Bars\n",
    "from Code.lle import lle"
   ]
  },
  {
   "cell_type": "markdown",
   "metadata": {},
   "source": [
    "### <span style=\"color:red\">============ Assignment 6 =========== </span>"
   ]
  },
  {
   "cell_type": "code",
   "execution_count": null,
   "metadata": {},
   "outputs": [],
   "source": [
    "from sklearn.datasets import make_s_curve\n",
    "n_points = 1000\n",
    "X, angle = make_s_curve(n_points, random_state=0)\n",
    "X = X.T"
   ]
  },
  {
   "cell_type": "code",
   "execution_count": null,
   "metadata": {},
   "outputs": [],
   "source": [
    "fig_s_curve = plt.figure()\n",
    "fig_s_curve.suptitle('S-Curve')\n",
    "    \n",
    "colorize = dict(c=angle, cmap=plt.cm.Spectral)\n",
    "# Add 3d scatter plot\n",
    "ax = fig_s_curve.add_subplot(projection='3d')\n",
    "ax.scatter(X[0,:], X[1,:], X[2,:], **colorize)\n",
    "ax.view_init(4, -72)"
   ]
  },
  {
   "cell_type": "code",
   "execution_count": null,
   "metadata": {},
   "outputs": [],
   "source": []
  },
  {
   "cell_type": "markdown",
   "metadata": {},
   "source": [
    "### <span style=\"color:red\">============ End of Assignment 6 =========== </span>"
   ]
  },
  {
   "cell_type": "markdown",
   "metadata": {},
   "source": [
    "### <span style=\"color:red\">============ Assignment 7 =========== </span>"
   ]
  },
  {
   "cell_type": "code",
   "execution_count": null,
   "metadata": {},
   "outputs": [],
   "source": [
    "from Code.dataset import bars\n",
    "\n",
    "data_bar, centers = bars()\n",
    "data_bar = data_bar.T\n",
    "centers = centers.T\n",
    "image_size = [40,40]"
   ]
  },
  {
   "cell_type": "code",
   "execution_count": null,
   "metadata": {},
   "outputs": [],
   "source": [
    "def reg_func(C, K):\n",
    "    trace = np.trace(C)\n",
    "    return 1e-3*trace*K*np.eye(K)"
   ]
  },
  {
   "cell_type": "code",
   "execution_count": null,
   "metadata": {},
   "outputs": [],
   "source": []
  },
  {
   "cell_type": "markdown",
   "metadata": {},
   "source": [
    "### <span style=\"color:red\">============ End of Assignment 7 =========== </span>"
   ]
  }
 ],
 "metadata": {
  "kernelspec": {
   "display_name": "Python 3 (ipykernel)",
   "language": "python",
   "name": "python3"
  },
  "language_info": {
   "codemirror_mode": {
    "name": "ipython",
    "version": 3
   },
   "file_extension": ".py",
   "mimetype": "text/x-python",
   "name": "python",
   "nbconvert_exporter": "python",
   "pygments_lexer": "ipython3",
   "version": "3.8.12"
  },
  "toc": {
   "base_numbering": 1,
   "nav_menu": {},
   "number_sections": true,
   "sideBar": true,
   "skip_h1_title": false,
   "title_cell": "Table of Contents",
   "title_sidebar": "Contents",
   "toc_cell": false,
   "toc_position": {},
   "toc_section_display": true,
   "toc_window_display": false
  }
 },
 "nbformat": 4,
 "nbformat_minor": 4
}
